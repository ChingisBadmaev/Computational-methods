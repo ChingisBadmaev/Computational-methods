{
 "cells": [
  {
   "cell_type": "markdown",
   "metadata": {},
   "source": [
    "# Метод простой итерации. Метод Зейделя"
   ]
  },
  {
   "cell_type": "code",
   "execution_count": 10,
   "metadata": {},
   "outputs": [],
   "source": [
    "import numpy as np\n",
    "from math import sqrt\n",
    "import sys\n",
    "from scipy.linalg import hilbert\n",
    "from tabulate import tabulate"
   ]
  },
  {
   "cell_type": "markdown",
   "metadata": {},
   "source": [
    "# В качестве тестовых данных используются"
   ]
  },
  {
   "cell_type": "code",
   "execution_count": 24,
   "metadata": {},
   "outputs": [
    {
     "name": "stdout",
     "output_type": "stream",
     "text": [
      "1.0 0.5 0.3333333333333333\n",
      "0.5 0.3333333333333333 0.25\n",
      "0.3333333333333333 0.25 0.2\n",
      "\n"
     ]
    }
   ],
   "source": [
    "# 1. Матрица Гильберта третьего порядка\n",
    "matrixHilbert3 = np.array(hilbert(3))\n",
    "print('\\n'.join(' '.join(str(cell) for cell in row) for row in matrixHilbert3))\n",
    "print()"
   ]
  },
  {
   "cell_type": "markdown",
   "metadata": {},
   "source": [
    "### Нахождение b"
   ]
  },
  {
   "cell_type": "code",
   "execution_count": 25,
   "metadata": {},
   "outputs": [],
   "source": [
    "def findB(A, x):  # находим b\n",
    "    b = np.dot(A, x)\n",
    "    return b"
   ]
  },
  {
   "cell_type": "markdown",
   "metadata": {},
   "source": [
    "### Находение alpha и beta"
   ]
  },
  {
   "cell_type": "code",
   "execution_count": 26,
   "metadata": {},
   "outputs": [],
   "source": [
    "def findCoef(A, b):  \n",
    "    alpha = np.array(np.zeros((A.shape[0], A.shape[0])))\n",
    "    beta = np.array(np.zeros(b.shape[0]))\n",
    "    for i in range(A.shape[0]):\n",
    "        for j in range(A.shape[0]):\n",
    "            if i != j:\n",
    "                alpha[i][j] = - A[i][j] / A[i][i]\n",
    "                beta[i] = b[i] / A[i][i]\n",
    "            else:\n",
    "                alpha[i][i] = 0\n",
    "    return alpha, beta"
   ]
  },
  {
   "cell_type": "markdown",
   "metadata": {},
   "source": [
    "### Метод простой итерации"
   ]
  },
  {
   "cell_type": "code",
   "execution_count": 27,
   "metadata": {},
   "outputs": [],
   "source": [
    "def iterationMethod(alpha, beta, x, eps, iter=1):\n",
    "    err = eps + 1\n",
    "    while err > eps and iter < 500:\n",
    "        err = np.linalg.norm(np.dot(alpha, x) + beta - x)\n",
    "        x = np.dot(alpha, x) + beta\n",
    "        iter += 1\n",
    "    x = np.dot(alpha, x) + beta\n",
    "    return x, iter"
   ]
  },
  {
   "cell_type": "markdown",
   "metadata": {},
   "source": [
    "### Метод Зейделя"
   ]
  },
  {
   "cell_type": "code",
   "execution_count": 28,
   "metadata": {},
   "outputs": [],
   "source": [
    "def seidelMethod(A, b, eps):\n",
    "    iter = 0\n",
    "    x = np.array(np.zeros((b.shape[0])))\n",
    "    err = eps + 1\n",
    "    while err > eps:\n",
    "        xNew = x.copy()\n",
    "        for i in range(A.shape[0]):\n",
    "            x1 = sum(A[i][j] * xNew[j] for j in range(i))\n",
    "            x2 = sum(A[i][j] * x[j] for j in range(i + 1, A.shape[0]))\n",
    "            xNew[i] = (b[i] - x1 - x2)/A[i][i]\n",
    "        err = np.linalg.norm(xNew - x)\n",
    "        iter += 1\n",
    "        x = xNew\n",
    "    return x, iter"
   ]
  },
  {
   "cell_type": "code",
   "execution_count": 31,
   "metadata": {},
   "outputs": [
    {
     "name": "stdout",
     "output_type": "stream",
     "text": [
      "Матрица:\n",
      "[1.         0.5        0.33333333]\n",
      "[0.5        0.33333333 0.25      ]\n",
      "[0.33333333 0.25       0.2       ]\n",
      "Погрешность: 0.0001\n",
      "Методе простой итерации:\n",
      "   Количество итераций (максимум = 500): 500\n",
      "   ||x - x_a||: 2.286992291142698e+120\n",
      "Метод Зейделя:\n",
      "   Количество итераций: 455\n",
      "   ||x - x_a||: 0.005096701086279855\n",
      "\n",
      "\n",
      "Погрешность: 1e-07\n",
      "Методе простой итерации:\n",
      "   Количество итераций (максимум = 500): 500\n",
      "   ||x - x_a||: 2.286992291142698e+120\n",
      "Метод Зейделя:\n",
      "   Количество итераций: 813\n",
      "   ||x - x_a||: 5.040044108336157e-06\n",
      "\n",
      "\n",
      "Погрешность: 1e-10\n",
      "Методе простой итерации:\n",
      "   Количество итераций (максимум = 500): 500\n",
      "   ||x - x_a||: 2.286992291142698e+120\n",
      "Метод Зейделя:\n",
      "   Количество итераций: 1170\n",
      "   ||x - x_a||: 5.081037406811946e-09\n",
      "\n",
      "\n",
      "Погрешность: 1e-13\n",
      "Методе простой итерации:\n",
      "   Количество итераций (максимум = 500): 500\n",
      "   ||x - x_a||: 2.286992291142698e+120\n",
      "Метод Зейделя:\n",
      "   Количество итераций: 1524\n",
      "   ||x - x_a||: 5.238976027684396e-12\n",
      "\n",
      "\n"
     ]
    }
   ],
   "source": [
    "print(\"Матрица:\")\n",
    "print(*matrixHilbert3, sep='\\n')\n",
    "\n",
    "b = findB(matrixHilbert3, x)\n",
    "alpha, beta = findCoef(matrixHilbert3, b)\n",
    "for eps in (1e-4, 1e-7, 1e-10, 1e-13):\n",
    "    print(\"Погрешность:\", eps)\n",
    "    print(\"Методе простой итерации:\")\n",
    "    print(\"   Количество итераций (максимум = 500):\", iterationMethod(alpha, beta, beta, eps)[1])\n",
    "    print(\"   ||x - x_a||:\", np.linalg.norm(x - iterationMethod(alpha, beta, beta, eps)[0]))\n",
    "    print(\"Метод Зейделя:\")\n",
    "    print(\"   Количество итераций:\", seidelMethod(matrixHilbert3, b, eps)[1])\n",
    "    print(\"   ||x - x_a||:\", np.linalg.norm(x - seidelMethod(matrixHilbert3, b, eps)[0]))\n",
    "    \n",
    "    print()\n",
    "    print()"
   ]
  },
  {
   "cell_type": "code",
   "execution_count": null,
   "metadata": {},
   "outputs": [],
   "source": []
  }
 ],
 "metadata": {
  "kernelspec": {
   "display_name": "Python 3",
   "language": "python",
   "name": "python3"
  },
  "language_info": {
   "codemirror_mode": {
    "name": "ipython",
    "version": 3
   },
   "file_extension": ".py",
   "mimetype": "text/x-python",
   "name": "python",
   "nbconvert_exporter": "python",
   "pygments_lexer": "ipython3",
   "version": "3.8.3"
  }
 },
 "nbformat": 4,
 "nbformat_minor": 4
}
