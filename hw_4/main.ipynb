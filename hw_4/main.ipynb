{
 "cells": [
  {
   "cell_type": "markdown",
   "metadata": {},
   "source": [
    "# Метод простой итерации. Метод Зейделя"
   ]
  },
  {
   "cell_type": "code",
   "execution_count": 2,
   "metadata": {},
   "outputs": [],
   "source": [
    "import numpy as np\n",
    "from math import sqrt\n",
    "import sys\n",
    "from scipy.linalg import hilbert\n",
    "from tabulate import tabulate"
   ]
  },
  {
   "cell_type": "markdown",
   "metadata": {},
   "source": [
    "# В качестве тестовых данных используются"
   ]
  },
  {
   "cell_type": "code",
   "execution_count": 3,
   "metadata": {},
   "outputs": [
    {
     "name": "stdout",
     "output_type": "stream",
     "text": [
      "1.0 0.5\n",
      "0.5 0.3333333333333333\n",
      "\n",
      "50 10 20\n",
      "70 82 -14\n",
      "5 -11 20\n",
      "\n",
      "-400.6 199.8\n",
      "1198.8 -600.4\n",
      "\n",
      "-402.9 200.7\n",
      "1204.2 -603.6\n",
      "\n"
     ]
    }
   ],
   "source": [
    "# 1. Матрица Гильберта второго порядка\n",
    "matrixHilbert2 = np.array(hilbert(2))\n",
    "print('\\n'.join(' '.join(str(cell) for cell in row) for row in matrixHilbert2))\n",
    "print()\n",
    "\n",
    "# 2. Матрица с диагональным преобладанием\n",
    "matrixD = np.array([[50, 10, 20], [70, 82, -14], [5, -11, 20]])  \n",
    "print('\\n'.join(' '.join(str(cell) for cell in row) for row in matrixD))\n",
    "print()\n",
    "\n",
    "# 3. Матрица из методички Пакулиной\n",
    "matrix1 = np.array([[-400.60, 199.80], [1198.80, -600.40]])  \n",
    "print('\\n'.join(' '.join(str(cell) for cell in row) for row in matrix1))\n",
    "print()\n",
    "                    \n",
    "# 4. Матрица из методички Пакулиной\n",
    "matrix2 = np.array([[-402.90, 200.70], [1204.20, -603.60]])  \n",
    "print('\\n'.join(' '.join(str(cell) for cell in row) for row in matrix2))\n",
    "print()"
   ]
  },
  {
   "cell_type": "markdown",
   "metadata": {},
   "source": [
    "### Нахождение b"
   ]
  },
  {
   "cell_type": "code",
   "execution_count": 4,
   "metadata": {},
   "outputs": [],
   "source": [
    "def findB(A, x):\n",
    "    b = np.dot(A, x)\n",
    "    return b"
   ]
  },
  {
   "cell_type": "markdown",
   "metadata": {},
   "source": [
    "### Находение alpha и beta"
   ]
  },
  {
   "cell_type": "code",
   "execution_count": 5,
   "metadata": {},
   "outputs": [],
   "source": [
    "def findCoef(A, b):  \n",
    "    alpha = np.array(np.zeros((A.shape[0], A.shape[0])))\n",
    "    beta = np.array(np.zeros(b.shape[0]))\n",
    "    for i in range(A.shape[0]):\n",
    "        for j in range(A.shape[0]):\n",
    "            if i != j:\n",
    "                alpha[i][j] = - A[i][j] / A[i][i]\n",
    "                beta[i] = b[i] / A[i][i]\n",
    "            else:\n",
    "                alpha[i][i] = 0\n",
    "    return alpha, beta"
   ]
  },
  {
   "cell_type": "markdown",
   "metadata": {},
   "source": [
    "### Метод простой итерации"
   ]
  },
  {
   "cell_type": "code",
   "execution_count": 6,
   "metadata": {},
   "outputs": [],
   "source": [
    "def iterationMethod(alpha, beta, x, eps, iter=1):\n",
    "    err = eps + 1\n",
    "    while err > eps:\n",
    "        err = np.linalg.norm(np.dot(alpha, x) + beta - x)\n",
    "        x = np.dot(alpha, x) + beta\n",
    "        iter += 1\n",
    "    x = np.dot(alpha, x) + beta\n",
    "    return x, iter"
   ]
  },
  {
   "cell_type": "markdown",
   "metadata": {},
   "source": [
    "### Метод Зейделя"
   ]
  },
  {
   "cell_type": "code",
   "execution_count": 7,
   "metadata": {},
   "outputs": [],
   "source": [
    "def seidelMethod(A, b, eps):\n",
    "    iter = 0\n",
    "    x = np.array(np.zeros((b.shape[0])))\n",
    "    err = eps + 1\n",
    "    while err > eps:\n",
    "        xNew = x.copy()\n",
    "        for i in range(A.shape[0]):\n",
    "            x1 = sum(A[i][j] * xNew[j] for j in range(i))\n",
    "            x2 = sum(A[i][j] * x[j] for j in range(i + 1, A.shape[0]))\n",
    "            xNew[i] = (b[i] - x1 - x2)/A[i][i]\n",
    "        err = np.linalg.norm(xNew - x)\n",
    "        iter += 1\n",
    "        x = xNew\n",
    "    return x, iter"
   ]
  },
  {
   "cell_type": "markdown",
   "metadata": {},
   "source": [
    "### Вывод данных"
   ]
  },
  {
   "cell_type": "code",
   "execution_count": 10,
   "metadata": {},
   "outputs": [
    {
     "name": "stdout",
     "output_type": "stream",
     "text": [
      "Матрица:\n",
      "[-402.9  200.7]\n",
      "[1204.2 -603.6]\n",
      "Погрешность: 0.0001\n",
      "Методе простой итерации:\n",
      "   Количество итераций: 4281\n",
      "   ||x - x_a||: 6.953565738817226e-05\n",
      "Метод Зейделя:\n",
      "   Количество итераций: 1166\n",
      "   ||x - x_a||: 0.01596949961645067\n",
      "\n",
      "\n",
      "Погрешность: 1e-07\n",
      "Методе простой итерации:\n",
      "   Количество итераций: 6503\n",
      "   ||x - x_a||: 6.949311377146162e-08\n",
      "Метод Зейделя:\n",
      "   Количество итераций: 2277\n",
      "   ||x - x_a||: 1.5959978607582397e-05\n",
      "\n",
      "\n",
      "Погрешность: 1e-10\n",
      "Методе простой итерации:\n",
      "   Количество итераций: 8725\n",
      "   ||x - x_a||: 6.839158173521238e-11\n",
      "Метод Зейделя:\n",
      "   Количество итераций: 3388\n",
      "   ||x - x_a||: 1.5949621746967647e-08\n",
      "\n",
      "\n",
      "Погрешность: 1e-13\n",
      "Методе простой итерации:\n",
      "   Количество итераций: 10057\n",
      "   ||x - x_a||: 4.843822518161191e-13\n",
      "Метод Зейделя:\n",
      "   Количество итераций: 4493\n",
      "   ||x - x_a||: 1.58214977156548e-11\n",
      "\n",
      "\n"
     ]
    }
   ],
   "source": [
    "print(\"Матрица:\")\n",
    "A = matrix2\n",
    "print(*A, sep='\\n')\n",
    "x = np.random.uniform(0, 100, size=A.shape[0])\n",
    "\n",
    "b = findB(A, x)\n",
    "alpha, beta = findCoef(A, b)\n",
    "for eps in (1e-4, 1e-7, 1e-10, 1e-13):\n",
    "    print(\"Погрешность:\", eps)\n",
    "    print(\"Методе простой итерации:\")\n",
    "    print(\"   Количество итераций:\", iterationMethod(alpha, beta, beta, eps)[1])\n",
    "    print(\"   ||x - x_a||:\", np.linalg.norm(x - iterationMethod(alpha, beta, beta, eps)[0]))\n",
    "    print(\"Метод Зейделя:\")\n",
    "    print(\"   Количество итераций:\", seidelMethod(A, b, eps)[1])\n",
    "    print(\"   ||x - x_a||:\", np.linalg.norm(x - seidelMethod(A, b, eps)[0]))\n",
    "    \n",
    "    print()\n",
    "    print()"
   ]
  }
 ],
 "metadata": {
  "kernelspec": {
   "display_name": "Python 3",
   "language": "python",
   "name": "python3"
  },
  "language_info": {
   "codemirror_mode": {
    "name": "ipython",
    "version": 3
   },
   "file_extension": ".py",
   "mimetype": "text/x-python",
   "name": "python",
   "nbconvert_exporter": "python",
   "pygments_lexer": "ipython3",
   "version": "3.8.3"
  }
 },
 "nbformat": 4,
 "nbformat_minor": 4
}
