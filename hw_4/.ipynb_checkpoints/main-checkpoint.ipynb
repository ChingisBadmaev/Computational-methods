{
 "cells": [
  {
   "cell_type": "markdown",
   "metadata": {},
   "source": [
    "# Метод простой итерации. Метод Зейделя"
   ]
  },
  {
   "cell_type": "code",
   "execution_count": 1,
   "metadata": {},
   "outputs": [],
   "source": [
    "import numpy as np\n",
    "from math import sqrt\n",
    "import sys\n",
    "from scipy.linalg import hilbert\n",
    "from tabulate import tabulate\n",
    "from tqdm import tqdm"
   ]
  },
  {
   "cell_type": "markdown",
   "metadata": {},
   "source": [
    "# В качестве тестовых данных используются"
   ]
  },
  {
   "cell_type": "code",
   "execution_count": 2,
   "metadata": {},
   "outputs": [
    {
     "name": "stdout",
     "output_type": "stream",
     "text": [
      "1.0 0.5\n",
      "0.5 0.3333333333333333\n",
      "\n",
      "50 10 20\n",
      "70 82 -14\n",
      "5 -11 20\n",
      "\n",
      "-400.6 199.8\n",
      "1198.8 -600.4\n",
      "\n",
      "-402.9 200.7\n",
      "1204.2 -603.6\n",
      "\n"
     ]
    }
   ],
   "source": [
    "# 1. Матрица Гильберта второго порядка\n",
    "matrixHilbert2 = np.array(hilbert(2))\n",
    "print('\\n'.join(' '.join(str(cell) for cell in row) for row in matrixHilbert2))\n",
    "print()\n",
    "\n",
    "# 2. Матрица с диагональным преобладанием\n",
    "matrixD = np.array([[50, 10, 20], [70, 82, -14], [5, -11, 20]])  \n",
    "print('\\n'.join(' '.join(str(cell) for cell in row) for row in matrixD))\n",
    "print()\n",
    "\n",
    "# 3. Матрица из методички Пакулиной\n",
    "matrix1 = np.array([[-400.60, 199.80], [1198.80, -600.40]])  \n",
    "print('\\n'.join(' '.join(str(cell) for cell in row) for row in matrix1))\n",
    "print()\n",
    "                    \n",
    "# 4. Матрица из методички Пакулиной\n",
    "matrix2 = np.array([[-402.90, 200.70], [1204.20, -603.60]])  \n",
    "print('\\n'.join(' '.join(str(cell) for cell in row) for row in matrix2))\n",
    "print()"
   ]
  },
  {
   "cell_type": "markdown",
   "metadata": {},
   "source": [
    "### Нахождение b"
   ]
  },
  {
   "cell_type": "code",
   "execution_count": 3,
   "metadata": {},
   "outputs": [],
   "source": [
    "def findB(A, x):\n",
    "    b = np.dot(A, x)\n",
    "    return b"
   ]
  },
  {
   "cell_type": "markdown",
   "metadata": {},
   "source": [
    "### Находение alpha и beta"
   ]
  },
  {
   "cell_type": "code",
   "execution_count": 4,
   "metadata": {},
   "outputs": [],
   "source": [
    "def findCoef(A, b):  \n",
    "    alpha = np.array(np.zeros((A.shape[0], A.shape[0])))\n",
    "    beta = np.array(np.zeros(b.shape[0]))\n",
    "    for i in range(A.shape[0]):\n",
    "        for j in range(A.shape[0]):\n",
    "            if i != j:\n",
    "                alpha[i][j] = - A[i][j] / A[i][i]\n",
    "                beta[i] = b[i] / A[i][i]\n",
    "            else:\n",
    "                alpha[i][i] = 0\n",
    "    return alpha, beta"
   ]
  },
  {
   "cell_type": "markdown",
   "metadata": {},
   "source": [
    "### Метод простой итерации"
   ]
  },
  {
   "cell_type": "code",
   "execution_count": 5,
   "metadata": {},
   "outputs": [],
   "source": [
    "def iterationMethod(alpha, beta, x, eps):\n",
    "    iter = 1\n",
    "    err = eps + 1\n",
    "    while err > eps:\n",
    "        err = np.linalg.norm(np.dot(alpha, x) + beta - x)\n",
    "        x = np.dot(alpha, x) + beta\n",
    "        iter += 1\n",
    "    x = np.dot(alpha, x) + beta\n",
    "    return x, iter"
   ]
  },
  {
   "cell_type": "markdown",
   "metadata": {},
   "source": [
    "### Метод Зейделя"
   ]
  },
  {
   "cell_type": "code",
   "execution_count": 6,
   "metadata": {},
   "outputs": [],
   "source": [
    "def seidelMethod(A, b, eps):\n",
    "    iter = 0\n",
    "    x = np.array(np.zeros((b.shape[0])))\n",
    "    err = eps + 1\n",
    "    while err > eps:\n",
    "        xNew = x.copy()\n",
    "        for i in range(A.shape[0]):\n",
    "            x1 = sum(A[i][j] * xNew[j] for j in range(i))\n",
    "            x2 = sum(A[i][j] * x[j] for j in range(i + 1, A.shape[0]))\n",
    "            xNew[i] = (b[i] - x1 - x2)/A[i][i]\n",
    "        err = np.linalg.norm(xNew - x)\n",
    "        iter += 1\n",
    "        x = xNew\n",
    "    return x, iter"
   ]
  },
  {
   "cell_type": "markdown",
   "metadata": {},
   "source": [
    "### Вывод данных"
   ]
  },
  {
   "cell_type": "code",
   "execution_count": 7,
   "metadata": {
    "scrolled": false
   },
   "outputs": [
    {
     "name": "stdout",
     "output_type": "stream",
     "text": [
      "Матрица:\n",
      "[-402.9  200.7]\n",
      "[1204.2 -603.6]\n",
      "Погрешность: 0.0001\n",
      "Методе простой итерации:\n",
      "   Количество итераций: 4039\n",
      "   ||x - x_a||: 0.00031960064961886935\n",
      "Метод Зейделя:\n",
      "   Количество итераций: 1379\n",
      "   ||x - x_a||: 0.016006343824159015\n",
      "\n",
      "\n",
      "Погрешность: 1e-07\n",
      "Методе простой итерации:\n",
      "   Количество итераций: 6261\n",
      "   ||x - x_a||: 3.194094128556873e-07\n",
      "Метод Зейделя:\n",
      "   Количество итераций: 2490\n",
      "   ||x - x_a||: 1.5996801329642467e-05\n",
      "\n",
      "\n",
      "Погрешность: 1e-10\n",
      "Методе простой итерации:\n",
      "   Количество итераций: 8483\n",
      "   ||x - x_a||: 3.185110595573772e-10\n",
      "Метод Зейделя:\n",
      "   Количество итераций: 3601\n",
      "   ||x - x_a||: 1.5986781127385062e-08\n",
      "\n",
      "\n",
      "Погрешность: 1e-13\n",
      "Методе простой итерации:\n",
      "   Количество итераций: 9901\n",
      "   ||x - x_a||: 3.7783038986514795e-12\n",
      "Метод Зейделя:\n",
      "   Количество итераций: 4694\n",
      "   ||x - x_a||: 1.7327701673394473e-11\n",
      "\n",
      "\n"
     ]
    }
   ],
   "source": [
    "print(\"Матрица:\")\n",
    "A = matrix2\n",
    "print(*A, sep='\\n')\n",
    "x = np.random.uniform(0, 100, size=A.shape[0])\n",
    "\n",
    "b = findB(A, x)\n",
    "alpha, beta = findCoef(A, b)\n",
    "for eps in (1e-4, 1e-7, 1e-10, 1e-13):\n",
    "    print(\"Погрешность:\", eps)\n",
    "    print(\"Методе простой итерации:\")\n",
    "    print(\"   Количество итераций:\", iterationMethod(alpha, beta, beta, eps)[1])\n",
    "    print(\"   ||x - x_a||:\", np.linalg.norm(x - iterationMethod(alpha, beta, beta, eps)[0]))\n",
    "    print(\"Метод Зейделя:\")\n",
    "    print(\"   Количество итераций:\", seidelMethod(A, b, eps)[1])\n",
    "    print(\"   ||x - x_a||:\", np.linalg.norm(x - seidelMethod(A, b, eps)[0]))\n",
    "    \n",
    "    print()\n",
    "    print()"
   ]
  },
  {
   "cell_type": "markdown",
   "metadata": {},
   "source": [
    "## Метод релаксации"
   ]
  },
  {
   "cell_type": "code",
   "execution_count": 8,
   "metadata": {},
   "outputs": [],
   "source": [
    "def relaxMethod(A, b, x):\n",
    "    n = A.shape[0]\n",
    "    x = x.copy()\n",
    "    mask = np.full(n, True)\n",
    "    for j in range(n):\n",
    "        deltas = A @ x - b\n",
    "        k = np.nanargmax(np.abs(np.where(mask, deltas, np.nan)))\n",
    "        if A[k, j] != 0:\n",
    "            x[j] = (b[k] - A[k] @ x + A[k, j]*x[j]) / A[k, j] \n",
    "        mask[k] = False\n",
    "    return x"
   ]
  },
  {
   "cell_type": "code",
   "execution_count": 9,
   "metadata": {},
   "outputs": [],
   "source": [
    "def relaxSolver(A, b, x, eps):\n",
    "    iter = 1\n",
    "    err = eps + 1\n",
    "    while err > eps:\n",
    "        x_new = relaxMethod(A, b, x)\n",
    "        err = np.linalg.norm(x - x_new)\n",
    "        iter += 1\n",
    "        x = x_new\n",
    "    return x, iter"
   ]
  },
  {
   "cell_type": "code",
   "execution_count": 10,
   "metadata": {},
   "outputs": [],
   "source": [
    "def test():\n",
    "    n = 201\n",
    "    A = np.random.rand(n, n)\n",
    "    for i in range(n):\n",
    "        A[i, i] = sum([abs(A[i, j]) for j in range(n)])\n",
    "    return A"
   ]
  },
  {
   "cell_type": "code",
   "execution_count": 11,
   "metadata": {},
   "outputs": [],
   "source": [
    "def varirovanie(value, eps):\n",
    "    return np.random.choice([-eps, eps], size=value.shape) + value"
   ]
  },
  {
   "cell_type": "code",
   "execution_count": 12,
   "metadata": {},
   "outputs": [],
   "source": [
    "def varirovanie_2():\n",
    "    return np.random.uniform(0, 201, size=A.shape[0])"
   ]
  },
  {
   "cell_type": "code",
   "execution_count": 13,
   "metadata": {},
   "outputs": [
    {
     "data": {
      "text/plain": [
       "(201, 201)"
      ]
     },
     "execution_count": 13,
     "metadata": {},
     "output_type": "execute_result"
    }
   ],
   "source": [
    "test().shape"
   ]
  },
  {
   "cell_type": "code",
   "execution_count": 18,
   "metadata": {},
   "outputs": [
    {
     "name": "stderr",
     "output_type": "stream",
     "text": [
      "<ipython-input-8-ebb96acb7a02>:9: RuntimeWarning: overflow encountered in matmul\n",
      "  x[j] = (b[k] - A[k] @ x + A[k, j]*x[j]) / A[k, j]\n",
      "<ipython-input-8-ebb96acb7a02>:6: RuntimeWarning: invalid value encountered in matmul\n",
      "  deltas = A @ x - b\n",
      "<ipython-input-8-ebb96acb7a02>:9: RuntimeWarning: overflow encountered in double_scalars\n",
      "  x[j] = (b[k] - A[k] @ x + A[k, j]*x[j]) / A[k, j]\n"
     ]
    },
    {
     "name": "stdout",
     "output_type": "stream",
     "text": [
      "Решение найдено!\n",
      "Норма разности 7.53982713e-07\n"
     ]
    }
   ],
   "source": [
    "A = test()\n",
    "x = np.random.uniform(0, 201, size=A.shape[0])\n",
    "b = findB(A, x)\n",
    "for i in range(1000):\n",
    "    A_2 = varirovanie(A, 1e-4)\n",
    "    for j in range(1000):\n",
    "        try:\n",
    "            start_x = varirovanie_2()\n",
    "            x_2 = relaxSolver(A_2, b, start_x, 1e-5)\n",
    "            print('Решение найдено!')\n",
    "            print('Норма разности', np.linalg.norm(x_2 - x))\n",
    "            break\n",
    "        except KeyboardInterrupt:\n",
    "            raise KeyboardInterrupt()\n",
    "        except:\n",
    "            pass"
   ]
  }
 ],
 "metadata": {
  "kernelspec": {
   "display_name": "Python 3",
   "language": "python",
   "name": "python3"
  },
  "language_info": {
   "codemirror_mode": {
    "name": "ipython",
    "version": 3
   },
   "file_extension": ".py",
   "mimetype": "text/x-python",
   "name": "python",
   "nbconvert_exporter": "python",
   "pygments_lexer": "ipython3",
   "version": "3.8.3"
  }
 },
 "nbformat": 4,
 "nbformat_minor": 4
}
