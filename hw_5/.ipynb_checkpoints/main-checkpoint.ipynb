{
 "cells": [
  {
   "cell_type": "markdown",
   "metadata": {},
   "source": [
    "# Степенной метод. Метод скалярных произведений"
   ]
  },
  {
   "cell_type": "code",
   "execution_count": 5,
   "metadata": {},
   "outputs": [],
   "source": [
    "import numpy as np\n",
    "from math import sqrt\n",
    "import sys\n",
    "from scipy.linalg import hilbert\n",
    "from tabulate import tabulate"
   ]
  },
  {
   "cell_type": "markdown",
   "metadata": {},
   "source": [
    "# В качестве тестовых данных используются"
   ]
  },
  {
   "cell_type": "code",
   "execution_count": 17,
   "metadata": {},
   "outputs": [
    {
     "name": "stdout",
     "output_type": "stream",
     "text": [
      "1.0 0.5 0.3333333333333333 0.25 0.2\n",
      "0.5 0.3333333333333333 0.25 0.2 0.16666666666666666\n",
      "0.3333333333333333 0.25 0.2 0.16666666666666666 0.14285714285714285\n",
      "0.25 0.2 0.16666666666666666 0.14285714285714285 0.125\n",
      "0.2 0.16666666666666666 0.14285714285714285 0.125 0.1111111111111111\n",
      "\n",
      "1.0 0.5 0.3333333333333333 0.25 0.2 0.16666666666666666\n",
      "0.5 0.3333333333333333 0.25 0.2 0.16666666666666666 0.14285714285714285\n",
      "0.3333333333333333 0.25 0.2 0.16666666666666666 0.14285714285714285 0.125\n",
      "0.25 0.2 0.16666666666666666 0.14285714285714285 0.125 0.1111111111111111\n",
      "0.2 0.16666666666666666 0.14285714285714285 0.125 0.1111111111111111 0.1\n",
      "0.16666666666666666 0.14285714285714285 0.125 0.1111111111111111 0.1 0.09090909090909091\n",
      "\n"
     ]
    }
   ],
   "source": [
    "# 1. Матрица Гильберта пятого порядка\n",
    "matrixHilbert5 = np.array(hilbert(5))\n",
    "print('\\n'.join(' '.join(str(cell) for cell in row) for row in matrixHilbert5))\n",
    "print()\n",
    "\n",
    "\n",
    "# 2. Матрица Гильберта шестого порядка\n",
    "matrixHilbert6 = np.array(hilbert(6))\n",
    "print('\\n'.join(' '.join(str(cell) for cell in row) for row in matrixHilbert6))\n",
    "print()"
   ]
  },
  {
   "cell_type": "markdown",
   "metadata": {},
   "source": [
    "### Степеной метод"
   ]
  },
  {
   "cell_type": "code",
   "execution_count": 11,
   "metadata": {},
   "outputs": [],
   "source": [
    "def powerMethod(A, eps):\n",
    "    x0 = np.array(np.ones(A.shape[0]))\n",
    "    lamb = 0\n",
    "    iteration = 0\n",
    "    while True:\n",
    "        iteration += 1\n",
    "        x1 = np.dot(A, x0)\n",
    "        if abs(x1[0] / x0[0] - lamb) < eps:\n",
    "            lamb = x1[0] / x0[0]\n",
    "            break\n",
    "        lamb = x1[0] / x0[0]\n",
    "        x0 = x1\n",
    "    return lamb, iteration"
   ]
  },
  {
   "cell_type": "markdown",
   "metadata": {},
   "source": [
    "### Метод скалярных произведений"
   ]
  },
  {
   "cell_type": "code",
   "execution_count": 12,
   "metadata": {},
   "outputs": [],
   "source": [
    "def scalMethod(matrixHilbert5, eps):\n",
    "    x0 = np.array(np.ones(matrixHilbert5.shape[0]))\n",
    "    y0 = np.array(np.ones(matrixHilbert5.shape[0]))\n",
    "    lamb = 0\n",
    "    iteration = 0\n",
    "    while True:\n",
    "        iteration += 1\n",
    "        x1 = np.dot(matrixHilbert5, x0)\n",
    "        y1 = np.dot(matrixHilbert5.T, y0)\n",
    "        if abs(np.dot(x1, y1) / np.dot(x0, y1) - lamb) < eps:\n",
    "            lamb = np.dot(x1, y1) / np.dot(x0, y1)\n",
    "            break\n",
    "        lamb = np.dot(x1, y1) / np.dot(x0, y1)\n",
    "        x0 = x1\n",
    "        y0 = y1\n",
    "    return lamb, iteration"
   ]
  },
  {
   "cell_type": "markdown",
   "metadata": {},
   "source": [
    "### Вывод данных (Матрица Гильберта пятого порядка)"
   ]
  },
  {
   "cell_type": "code",
   "execution_count": 30,
   "metadata": {
    "scrolled": false
   },
   "outputs": [
    {
     "name": "stdout",
     "output_type": "stream",
     "text": [
      "Матрица Гильберта пятого порядка:\n",
      "[1.         0.5        0.33333333 0.25       0.2       ]\n",
      "[0.5        0.33333333 0.25       0.2        0.16666667]\n",
      "[0.33333333 0.25       0.2        0.16666667 0.14285714]\n",
      "[0.25       0.2        0.16666667 0.14285714 0.125     ]\n",
      "[0.2        0.16666667 0.14285714 0.125      0.11111111]\n",
      "\n",
      "Погрешность: 0.01\n",
      "Степенной метод:\n",
      "    Количество итераций: 4\n",
      "    |lambdaAcc - lambda|: 0.001221369082482049\n",
      "\n",
      "Метод скалярных произведений:\n",
      "    Количество итераций: 3\n",
      "    |lambdaAcc - lambda|: 1.3406487585410076e-05\n",
      "\n",
      "\n",
      "\n",
      "Погрешность: 0.001\n",
      "Степенной метод:\n",
      "    Количество итераций: 6\n",
      "    |lambdaAcc - lambda|: 2.1610229906876555e-05\n",
      "\n",
      "Метод скалярных произведений:\n",
      "    Количество итераций: 3\n",
      "    |lambdaAcc - lambda|: 1.3406487585410076e-05\n",
      "\n",
      "\n",
      "\n",
      "Погрешность: 0.0001\n",
      "Степенной метод:\n",
      "    Количество итераций: 7\n",
      "    |lambdaAcc - lambda|: 2.8757273158319663e-06\n",
      "\n",
      "Метод скалярных произведений:\n",
      "    Количество итераций: 4\n",
      "    |lambdaAcc - lambda|: 2.374147907158175e-07\n",
      "\n",
      "\n",
      "\n",
      "Погрешность: 1e-05\n",
      "Степенной метод:\n",
      "    Количество итераций: 8\n",
      "    |lambdaAcc - lambda|: 3.826847809751399e-07\n",
      "\n",
      "Метод скалярных произведений:\n",
      "    Количество итераций: 4\n",
      "    |lambdaAcc - lambda|: 4.204325776413498e-09\n",
      "\n",
      "\n",
      "\n"
     ]
    }
   ],
   "source": [
    "print(\"Матрица Гильберта пятого порядка:\")\n",
    "print(*matrixHilbert5, sep='\\n')\n",
    "print()\n",
    "lambdaAcc = max(abs(np.linalg.eig(matrixHilbert5)[0]))\n",
    "for eps in (1e-2, 1e-3, 1e-4, 1e-5):\n",
    "    print(\"Погрешность:\", eps)\n",
    "    print(\"Степенной метод:\")\n",
    "    print(\"    Количество итераций:\", powerMethod(matrixHilbert5, eps)[1])\n",
    "    print(\"    |lambdaAcc - lambda|:\", abs(lambdaAcc - abs(powerMethod(matrixHilbert5, eps)[0])))\n",
    "    print()\n",
    "    print(\"Метод скалярных произведений:\")\n",
    "    print(\"    Количество итераций:\", scalMethod(A, eps)[1])\n",
    "    print(\"    |lambdaAcc - lambda|:\", abs(lambdaAcc - abs(scalMethod(matrixHilbert5, eps)[0])))\n",
    "    print()\n",
    "    print()\n",
    "    print()"
   ]
  },
  {
   "cell_type": "markdown",
   "metadata": {},
   "source": [
    "### Вывод данных (Матрица Гильберта шестого порядка)"
   ]
  },
  {
   "cell_type": "code",
   "execution_count": 29,
   "metadata": {},
   "outputs": [
    {
     "name": "stdout",
     "output_type": "stream",
     "text": [
      "Матрица Гильберта шестого порядка:\n",
      "[1.         0.5        0.33333333 0.25       0.2        0.16666667]\n",
      "[0.5        0.33333333 0.25       0.2        0.16666667 0.14285714]\n",
      "[0.33333333 0.25       0.2        0.16666667 0.14285714 0.125     ]\n",
      "[0.25       0.2        0.16666667 0.14285714 0.125      0.11111111]\n",
      "[0.2        0.16666667 0.14285714 0.125      0.11111111 0.1       ]\n",
      "[0.16666667 0.14285714 0.125      0.11111111 0.1        0.09090909]\n",
      "\n",
      "Погрешность: 0.01\n",
      "Степенной метод:\n",
      "    Количество итераций: 5\n",
      "    |lambdaAcc - lambda|: 0.0002936458774360773\n",
      "\n",
      "Метод скалярных произведений:\n",
      "    Количество итераций: 3\n",
      "    |lambdaAcc - lambda|: 2.7699432503913712e-05\n",
      "\n",
      "\n",
      "\n",
      "Погрешность: 0.001\n",
      "Степенной метод:\n",
      "    Количество итераций: 6\n",
      "    |lambdaAcc - lambda|: 4.395301903570292e-05\n",
      "\n",
      "Метод скалярных произведений:\n",
      "    Количество итераций: 3\n",
      "    |lambdaAcc - lambda|: 6.208181393407841e-07\n",
      "\n",
      "\n",
      "\n",
      "Погрешность: 0.0001\n",
      "Степенной метод:\n",
      "    Количество итераций: 7\n",
      "    |lambdaAcc - lambda|: 6.579903279346766e-06\n",
      "\n",
      "Метод скалярных произведений:\n",
      "    Количество итераций: 4\n",
      "    |lambdaAcc - lambda|: 6.208181393407841e-07\n",
      "\n",
      "\n",
      "\n",
      "Погрешность: 1e-05\n",
      "Степенной метод:\n",
      "    Количество итераций: 8\n",
      "    |lambdaAcc - lambda|: 9.850545206191441e-07\n",
      "\n",
      "Метод скалярных произведений:\n",
      "    Количество итераций: 4\n",
      "    |lambdaAcc - lambda|: 1.3913922902730747e-08\n",
      "\n",
      "\n",
      "\n"
     ]
    }
   ],
   "source": [
    "print(\"Матрица Гильберта шестого порядка:\")\n",
    "print(*matrixHilbert6, sep='\\n')\n",
    "print()\n",
    "lambdaAcc = max(abs(np.linalg.eig(matrixHilbert6)[0]))\n",
    "for eps in (1e-2, 1e-3, 1e-4, 1e-5):\n",
    "    print(\"Погрешность:\", eps)\n",
    "    print(\"Степенной метод:\")\n",
    "    print(\"    Количество итераций:\", powerMethod(matrixHilbert6, eps)[1])\n",
    "    print(\"    |lambdaAcc - lambda|:\", abs(lambdaAcc - abs(powerMethod(matrixHilbert6, eps)[0])))\n",
    "    print()\n",
    "    print(\"Метод скалярных произведений:\")\n",
    "    print(\"    Количество итераций:\", scalMethod(A, eps)[1])\n",
    "    print(\"    |lambdaAcc - lambda|:\", abs(lambdaAcc - abs(scalMethod(matrixHilbert6, eps)[0])))\n",
    "    print()\n",
    "    print()\n",
    "    print()"
   ]
  }
 ],
 "metadata": {
  "kernelspec": {
   "display_name": "Python 3",
   "language": "python",
   "name": "python3"
  },
  "language_info": {
   "codemirror_mode": {
    "name": "ipython",
    "version": 3
   },
   "file_extension": ".py",
   "mimetype": "text/x-python",
   "name": "python",
   "nbconvert_exporter": "python",
   "pygments_lexer": "ipython3",
   "version": "3.8.3"
  }
 },
 "nbformat": 4,
 "nbformat_minor": 4
}
