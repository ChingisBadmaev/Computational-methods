{
 "cells": [
  {
   "cell_type": "markdown",
   "metadata": {},
   "source": [
    "# Метод Галёркина"
   ]
  },
  {
   "cell_type": "code",
   "execution_count": 1,
   "metadata": {},
   "outputs": [],
   "source": [
    "import numpy as np\n",
    "import matplotlib.pyplot as plt\n",
    "import sympy as sym\n",
    "from sympy import *\n",
    "from tqdm import tqdm"
   ]
  },
  {
   "cell_type": "markdown",
   "metadata": {},
   "source": [
    "# # Общий вид краевой задачи:\n",
    "# # k * u_xx + p * u_x + q * u = f    u(a)=u_z, u(b)=u_b"
   ]
  },
  {
   "cell_type": "code",
   "execution_count": 2,
   "metadata": {},
   "outputs": [],
   "source": [
    "def jacobi_pol(k, n):\n",
    "    x = sym.symbols('x')\n",
    "    p = np.zeros(n + 1, dtype=sym.Symbol)\n",
    "    p[0] = 1\n",
    "    if n == 1:\n",
    "        p[1] = (k + 1) * x\n",
    "    if n != 1 and n != 0:\n",
    "        p[1] = (k + 1) * x\n",
    "        for i in range(n - 1):\n",
    "            p[i + 2] = ((i + k + 2) * (2 * i + 2 * k + 3) * x * p[i + 1] - (i + k + 2) *\n",
    "                        (i + k + 1) * p[i]) / ((i + 2 * k + 2) * (i + 2))\n",
    "    return p"
   ]
  },
  {
   "cell_type": "code",
   "execution_count": 3,
   "metadata": {},
   "outputs": [],
   "source": [
    "def phis(N):\n",
    "    k = 1\n",
    "    phi = (1 - x * x) * jacobi_pol(k, N)\n",
    "    dphi = np.zeros(N + 1, dtype=sym.Symbol)\n",
    "    ddphi = np.zeros(N + 1, dtype=sym.Symbol)\n",
    "    for i in range(N + 1):\n",
    "        dphi[i] = sym.diff(phi[i], x, 1)\n",
    "    for i in range(N + 1):\n",
    "        ddphi[i] = sym.diff((dphi[i]), x, 1)\n",
    "    return phi, dphi, ddphi"
   ]
  },
  {
   "cell_type": "markdown",
   "metadata": {},
   "source": [
    "### Метод Галеркина"
   ]
  },
  {
   "cell_type": "code",
   "execution_count": 4,
   "metadata": {},
   "outputs": [],
   "source": [
    "def galerkin_method(N):\n",
    "    A = np.zeros(N + 1, dtype=sym.Symbol)\n",
    "    B = np.zeros(N + 1)\n",
    "    C = np.zeros((N + 1, N + 1))\n",
    "    phi, dphi, ddphi = phis(N)\n",
    "    for i in range(N + 1):\n",
    "        A[i] = k * ddphi[i] + p * dphi[i] + q * phi[i]\n",
    "        B[i] = sym.integrate(f * phi[i], (x, a, b))\n",
    "    for i in range(N + 1):\n",
    "        for j in range(N + 1):\n",
    "            C[i, j] = sym.integrate((A[j]) * phi[i], (x, a, b))\n",
    "    alpha = np.linalg.solve(C, B)\n",
    "    u = 0\n",
    "    for i in range(0, N + 1):\n",
    "        u += alpha[i] * phi[i]\n",
    "    return u\n"
   ]
  },
  {
   "cell_type": "markdown",
   "metadata": {},
   "source": [
    "### Вывод данных (3 вариант из учебника Пакулиной), N = 1"
   ]
  },
  {
   "cell_type": "code",
   "execution_count": 5,
   "metadata": {
    "scrolled": true
   },
   "outputs": [
    {
     "data": {
      "image/png": "[encoded data removed]",
      "text/plain": [
       "<Figure size 432x288 with 1 Axes>"
      ]
     },
     "metadata": {
      "needs_background": "light"
     },
     "output_type": "display_data"
    }
   ],
   "source": [
    "u_a = 0\n",
    "u_b = 0\n",
    "a = -1\n",
    "b = 1\n",
    "x = sym.symbols('x')\n",
    "k = -1 / (x - 3)\n",
    "p = 1 + x / 2\n",
    "q = exp(x / 2)\n",
    "f = 2 - x\n",
    "\n",
    "N = 1\n",
    "u = galerkin_method(N)\n",
    "h = 0.1\n",
    "n = round((b - a) / h)\n",
    "x1 = np.zeros(n + 1)\n",
    "y = np.zeros(n + 1, dtype=sym.Symbol)\n",
    "for i in range(n + 1):\n",
    "    x1[i] = a + i * h\n",
    "    y[i] = u.subs(x, x1[i])\n",
    "plt.plot(x1, y, marker='.', color='red', mec='black', ms=10)\n",
    "plt.xlabel('x')\n",
    "plt.ylabel('y')\n",
    "plt.grid(True)\n",
    "plt.show()"
   ]
  },
  {
   "cell_type": "markdown",
   "metadata": {},
   "source": [
    "### Вывод данных (3 вариант из учебника Пакулиной), N = 10"
   ]
  },
  {
   "cell_type": "code",
   "execution_count": null,
   "metadata": {},
   "outputs": [],
   "source": [
    "u_a = 0\n",
    "u_b = 0\n",
    "a = -1\n",
    "b = 1\n",
    "x = sym.symbols('x')\n",
    "k = -1 / (x - 3)\n",
    "p = 1 + x / 2\n",
    "q = exp(x / 2)\n",
    "f = 2 - x\n",
    "\n",
    "N = 10\n",
    "u = galerkin_method(N)\n",
    "h = 0.1\n",
    "n = round((b - a) / h)\n",
    "x1 = np.zeros(n + 1)\n",
    "y = np.zeros(n + 1, dtype=sym.Symbol)\n",
    "for i in tqdm(range(n + 1)):\n",
    "    x1[i] = a + i * h\n",
    "    y[i] = u.subs(x, x1[i])\n",
    "plt.plot(x1, y, marker='.', color='red', mec='black', ms=10)\n",
    "plt.xlabel('x')\n",
    "plt.ylabel('y')\n",
    "plt.grid(True)\n",
    "plt.show()"
   ]
  },
  {
   "cell_type": "markdown",
   "metadata": {},
   "source": [
    "### Вывод данных (11 вариант из учебника Пакулиной), N = 1"
   ]
  },
  {
   "cell_type": "code",
   "execution_count": null,
   "metadata": {},
   "outputs": [],
   "source": [
    "u_a = 0\n",
    "u_b = 0\n",
    "a = -1\n",
    "b = 1\n",
    "x = sym.symbols('x')\n",
    "k = - (7 - x) / (8 + 3 * x)\n",
    "p = 1 + x / 3\n",
    "q = 1 - exp(x / 2) / 2\n",
    "f = 1 / 2 - x / 3\n",
    "\n",
    "N = 1\n",
    "u = galerkin_method(N)\n",
    "h = 0.1\n",
    "n = round((b - a) / h)\n",
    "x1 = np.zeros(n + 1)\n",
    "y = np.zeros(n + 1, dtype=sym.Symbol)\n",
    "for i in range(n + 1):\n",
    "    x1[i] = a + i * h\n",
    "    y[i] = u.subs(x, x1[i])\n",
    "plt.plot(x1, y, marker='.', color='red', mec='black', ms=10)\n",
    "plt.xlabel('x')\n",
    "plt.ylabel('y')\n",
    "plt.grid(True)\n",
    "plt.show()"
   ]
  },
  {
   "cell_type": "markdown",
   "metadata": {},
   "source": [
    "### Вывод данных (11 вариант из учебника Пакулиной), N = 10"
   ]
  },
  {
   "cell_type": "code",
   "execution_count": null,
   "metadata": {},
   "outputs": [],
   "source": [
    "u_a = 0\n",
    "u_b = 0\n",
    "a = -1\n",
    "b = 1\n",
    "x = sym.symbols('x')\n",
    "k = - (7 - x) / (8 + 3 * x)\n",
    "p = 1 + x / 3\n",
    "q = 1 - exp(x / 2) / 2\n",
    "f = 1 / 2 - x / 3\n",
    "\n",
    "N = 10\n",
    "u = galerkin_method(N)\n",
    "h = 0.1\n",
    "n = round((b - a) / h)\n",
    "x1 = np.zeros(n + 1)\n",
    "y = np.zeros(n + 1, dtype=sym.Symbol)\n",
    "for i in range(n + 1):\n",
    "    x1[i] = a + i * h\n",
    "    y[i] = u.subs(x, x1[i])\n",
    "plt.plot(x1, y, marker='.', color='red', mec='black', ms=10)\n",
    "plt.xlabel('x')\n",
    "plt.ylabel('y')\n",
    "plt.grid(True)\n",
    "plt.show()"
   ]
  }
 ],
 "metadata": {
  "kernelspec": {
   "display_name": "Python 3",
   "language": "python",
   "name": "python3"
  },
  "language_info": {
   "codemirror_mode": {
    "name": "ipython",
    "version": 3
   },
   "file_extension": ".py",
   "mimetype": "text/x-python",
   "name": "python",
   "nbconvert_exporter": "python",
   "pygments_lexer": "ipython3",
   "version": "3.8.3"
  }
 },
 "nbformat": 4,
 "nbformat_minor": 4
}
