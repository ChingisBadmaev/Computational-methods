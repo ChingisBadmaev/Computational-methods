{
 "cells": [
  {
   "cell_type": "markdown",
   "metadata": {},
   "source": [
    "# Метод Якоби поиска собственных чисел"
   ]
  },
  {
   "cell_type": "code",
   "execution_count": 8,
   "metadata": {},
   "outputs": [],
   "source": [
    "import numpy as np\n",
    "from math import sqrt\n",
    "import sys\n",
    "from scipy.linalg import hilbert\n",
    "from tabulate import tabulate"
   ]
  },
  {
   "cell_type": "markdown",
   "metadata": {},
   "source": [
    "# В качестве тестовых данных используются"
   ]
  },
  {
   "cell_type": "code",
   "execution_count": 58,
   "metadata": {},
   "outputs": [],
   "source": [
    "# 1. Матрица Гильберта пятнадцатого порядка\n",
    "matrixHilbert50 = np.array(hilbert(50))\n",
    "\n",
    "# 2. Матрица Гильберта шестого порядка\n",
    "matrixHilbert60 = np.array(hilbert(60))\n",
    "\n",
    "# 2. Матрица Гильберта шестого порядка\n",
    "matrixHilbert70 = np.array(hilbert(70))\n",
    "\n",
    "# 1. Матрица Гильберта пятнадцатого порядка\n",
    "matrixHilbert80 = np.array(hilbert(80))"
   ]
  },
  {
   "cell_type": "markdown",
   "metadata": {},
   "source": [
    "### Поиск оптимального элемента, где он наибольший наддиагональный по модулю"
   ]
  },
  {
   "cell_type": "code",
   "execution_count": 78,
   "metadata": {},
   "outputs": [],
   "source": [
    "def maxMod(A):\n",
    "    maxElem = 0\n",
    "    max_i = 0\n",
    "    max_j = 0\n",
    "    for i in range(A.shape[0]):\n",
    "        for j in range(i + 1, A.shape[0]):\n",
    "            if abs(maxElem) < abs(A[i, j]):\n",
    "                maxElem = A[i, j]\n",
    "                max_i = i\n",
    "                max_j = j\n",
    "    return max_i, max_j"
   ]
  },
  {
   "cell_type": "markdown",
   "metadata": {},
   "source": [
    "### Поиск оптимального элемента с помощью кругов Гершгорина"
   ]
  },
  {
   "cell_type": "code",
   "execution_count": 59,
   "metadata": {},
   "outputs": [],
   "source": [
    "def Gersh(A, iter, r, i, j):\n",
    "    maxElem = 0\n",
    "    max_i = 0\n",
    "    max_j = 0\n",
    "    if iter == 0:\n",
    "        for i in range(A.shape[0]):\n",
    "            for j in range(A.shape[0]):\n",
    "                if i != j:\n",
    "                    r[i] += abs(A[i, j]) ** 2\n",
    "    else:\n",
    "        for k in (i, j):\n",
    "            r[k] = 0\n",
    "            for j in range(A.shape[0]):\n",
    "                if k != j:\n",
    "                    r[k] += abs(A[k, j]) ** 2\n",
    "    for i in range(A.shape[0]):\n",
    "        if maxElem < r[i]:\n",
    "            maxElem = r[i]\n",
    "            max_i = i\n",
    "    maxElem = 0\n",
    "    for j in range(A.shape[0]):\n",
    "        if maxElem < abs(A[max_i, j]) and max_i != j:\n",
    "            maxElem = A[max_i, j]\n",
    "            max_j = j\n",
    "    return max_i, max_j"
   ]
  },
  {
   "cell_type": "markdown",
   "metadata": {},
   "source": [
    "### Метод Якоби поиска всех собственных чисел"
   ]
  },
  {
   "cell_type": "code",
   "execution_count": 85,
   "metadata": {},
   "outputs": [],
   "source": [
    "def jacobiMethod(A, eps):\n",
    "    iter = 0\n",
    "    r = np.array(np.zeros(A.shape[0]))\n",
    "    max_i = 0\n",
    "    max_j = 0\n",
    "    while True:\n",
    "        H = np.eye(A.shape[0], dtype=float)\n",
    "        max_i, max_j = Gersh(A, iter, r, max_i, max_j)\n",
    "        if abs(A[max_i, max_j]) < eps:\n",
    "            return np.diag(A), iter\n",
    "        iter += 1\n",
    "        phi = 1 / 2 * (math.atan((2 * A[max_i, max_j]) / (A[max_i, max_i] - A[max_j, max_j])))\n",
    "        H[max_i, max_i] = math.cos(phi)\n",
    "        H[max_j, max_j] = math.cos(phi)\n",
    "        H[max_i, max_j] = - math.sin(phi)\n",
    "        H[max_j, max_i] = math.sin(phi)\n",
    "        A = H.T @ A @ H"
   ]
  },
  {
   "cell_type": "markdown",
   "metadata": {},
   "source": [
    "### Вывод данных"
   ]
  },
  {
   "cell_type": "code",
   "execution_count": 86,
   "metadata": {},
   "outputs": [
    {
     "name": "stdout",
     "output_type": "stream",
     "text": [
      "Матрица Гильбертва 80 порядка\n",
      "\n",
      "Погрешность: 0.01\n",
      "Количество итераций: 244\n",
      "||lambdaAcc - lambda|| = 0.19496672949161922\n",
      "\n",
      "Погрешность: 0.001\n",
      "Количество итераций: 300\n",
      "||lambdaAcc - lambda|| = 0.19491108149938513\n",
      "\n",
      "Погрешность: 0.0001\n",
      "Количество итераций: 424\n",
      "||lambdaAcc - lambda|| = 0.03860875900222459\n",
      "\n",
      "Погрешность: 1e-05\n",
      "Количество итераций: 424\n",
      "||lambdaAcc - lambda|| = 0.03860875900222459\n",
      "\n"
     ]
    }
   ],
   "source": [
    "A = matrixHilbert80\n",
    "n = A.shape[0]\n",
    "print(\"Матрица Гильбертва\", n, \"порядка\")\n",
    "print()\n",
    "lambdaAcc = np.linalg.eig(A)[0]\n",
    "for eps in (1e-2, 1e-3, 1e-4, 1e-5):\n",
    "    print(\"Погрешность:\", eps)\n",
    "    lambda_comp, iter = jacobiMethod(A, eps)\n",
    "    print(\"Количество итераций:\", iter)\n",
    "    print(\"||lambdaAcc - lambda|| =\", np.linalg.norm(np.sort(lambdaAcc) - np.sort(lambda_comp)))\n",
    "    print()"
   ]
  }
 ],
 "metadata": {
  "kernelspec": {
   "display_name": "Python 3",
   "language": "python",
   "name": "python3"
  },
  "language_info": {
   "codemirror_mode": {
    "name": "ipython",
    "version": 3
   },
   "file_extension": ".py",
   "mimetype": "text/x-python",
   "name": "python",
   "nbconvert_exporter": "python",
   "pygments_lexer": "ipython3",
   "version": "3.8.3"
  }
 },
 "nbformat": 4,
 "nbformat_minor": 4
}
