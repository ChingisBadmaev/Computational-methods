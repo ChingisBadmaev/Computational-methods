{
 "cells": [
  {
   "cell_type": "markdown",
   "metadata": {},
   "source": [
    "#  Метод вращений"
   ]
  },
  {
   "cell_type": "code",
   "execution_count": 163,
   "metadata": {},
   "outputs": [],
   "source": [
    "import numpy as np\n",
    "from math import sqrt\n",
    "import sys\n",
    "from scipy.linalg import hilbert\n",
    "from tabulate import tabulate"
   ]
  },
  {
   "cell_type": "markdown",
   "metadata": {},
   "source": [
    "# В качестве тестовых данных используются"
   ]
  },
  {
   "cell_type": "code",
   "execution_count": 164,
   "metadata": {
    "scrolled": false
   },
   "outputs": [
    {
     "name": "stdout",
     "output_type": "stream",
     "text": [
      "1.0 0.5 0.3333333333333333 0.25 0.2\n",
      "0.5 0.3333333333333333 0.25 0.2 0.16666666666666666\n",
      "0.3333333333333333 0.25 0.2 0.16666666666666666 0.14285714285714285\n",
      "0.25 0.2 0.16666666666666666 0.14285714285714285 0.125\n",
      "0.2 0.16666666666666666 0.14285714285714285 0.125 0.1111111111111111\n",
      "\n",
      "1.0 0.5 0.3333333333333333 0.25 0.2 0.16666666666666666\n",
      "0.5 0.3333333333333333 0.25 0.2 0.16666666666666666 0.14285714285714285\n",
      "0.3333333333333333 0.25 0.2 0.16666666666666666 0.14285714285714285 0.125\n",
      "0.25 0.2 0.16666666666666666 0.14285714285714285 0.125 0.1111111111111111\n",
      "0.2 0.16666666666666666 0.14285714285714285 0.125 0.1111111111111111 0.1\n",
      "0.16666666666666666 0.14285714285714285 0.125 0.1111111111111111 0.1 0.09090909090909091\n",
      "\n",
      "1.0 0.5 0.3333333333333333 0.25 0.2 0.16666666666666666 0.14285714285714285 0.125 0.1111111111111111 0.1\n",
      "0.5 0.3333333333333333 0.25 0.2 0.16666666666666666 0.14285714285714285 0.125 0.1111111111111111 0.1 0.09090909090909091\n",
      "0.3333333333333333 0.25 0.2 0.16666666666666666 0.14285714285714285 0.125 0.1111111111111111 0.1 0.09090909090909091 0.08333333333333333\n",
      "0.25 0.2 0.16666666666666666 0.14285714285714285 0.125 0.1111111111111111 0.1 0.09090909090909091 0.08333333333333333 0.07692307692307693\n",
      "0.2 0.16666666666666666 0.14285714285714285 0.125 0.1111111111111111 0.1 0.09090909090909091 0.08333333333333333 0.07692307692307693 0.07142857142857142\n",
      "0.16666666666666666 0.14285714285714285 0.125 0.1111111111111111 0.1 0.09090909090909091 0.08333333333333333 0.07692307692307693 0.07142857142857142 0.06666666666666667\n",
      "0.14285714285714285 0.125 0.1111111111111111 0.1 0.09090909090909091 0.08333333333333333 0.07692307692307693 0.07142857142857142 0.06666666666666667 0.0625\n",
      "0.125 0.1111111111111111 0.1 0.09090909090909091 0.08333333333333333 0.07692307692307693 0.07142857142857142 0.06666666666666667 0.0625 0.058823529411764705\n",
      "0.1111111111111111 0.1 0.09090909090909091 0.08333333333333333 0.07692307692307693 0.07142857142857142 0.06666666666666667 0.0625 0.058823529411764705 0.05555555555555555\n",
      "0.1 0.09090909090909091 0.08333333333333333 0.07692307692307693 0.07142857142857142 0.06666666666666667 0.0625 0.058823529411764705 0.05555555555555555 0.05263157894736842\n",
      "\n"
     ]
    }
   ],
   "source": [
    "# 1. Матрица Гильберта пятого порядка\n",
    "matrixHilbert5 = np.array(hilbert(5))\n",
    "print('\\n'.join(' '.join(str(cell) for cell in row) for row in matrixHilbert5))\n",
    "print()\n",
    "\n",
    "\n",
    "# 2. Матрица Гильберта шестого порядка\n",
    "matrixHilbert6 = np.array(hilbert(6))\n",
    "print('\\n'.join(' '.join(str(cell) for cell in row) for row in matrixHilbert6))\n",
    "print()\n",
    "\n",
    "\n",
    "# 2. Матрица Гильберта десятого порядка\n",
    "matrixHilbert10 = np.array(hilbert(10))\n",
    "print('\\n'.join(' '.join(str(cell) for cell in row) for row in matrixHilbert10))\n",
    "print()"
   ]
  },
  {
   "cell_type": "markdown",
   "metadata": {},
   "source": [
    "### Находение b"
   ]
  },
  {
   "cell_type": "code",
   "execution_count": 165,
   "metadata": {},
   "outputs": [],
   "source": [
    "def findB(A, x):\n",
    "    b = np.dot(A, x)\n",
    "    return b"
   ]
  },
  {
   "cell_type": "markdown",
   "metadata": {},
   "source": [
    "### Метод вращений"
   ]
  },
  {
   "cell_type": "code",
   "execution_count": 166,
   "metadata": {},
   "outputs": [],
   "source": [
    "def solveRotation(A, b):\n",
    "    q = np.column_stack([A, b])\n",
    "    for i in range(q.shape[0] - 1):\n",
    "        for j in range(i + 1, q.shape[0]):\n",
    "            c = q[i, i] / (q[i, i] ** 2 + q[j, i] ** 2) ** (1/2)\n",
    "            s = q[j, i] / (q[i, i] ** 2 + q[j, i] ** 2) ** (1/2)\n",
    "            tmp = q[i, :] * c + q[j, :] * s\n",
    "            q[j, :] = q[i, :] * -s + q[j, :] * c\n",
    "            q[i, :] = tmp\n",
    "    x = np.linalg.solve(q[:, :-1], q[:, -1])\n",
    "    return x"
   ]
  },
  {
   "cell_type": "markdown",
   "metadata": {},
   "source": [
    "### Вывод данных"
   ]
  },
  {
   "cell_type": "code",
   "execution_count": 173,
   "metadata": {},
   "outputs": [],
   "source": [
    "def printAll(matrix):\n",
    "    print(\"Матрица Гильберта\", matrix.shape[0], \"порядка:\")\n",
    "    x = np.random.uniform(0, 50, size=matrix.shape[0])\n",
    "    b = find_b(matrix, x)\n",
    "    x_rot = solve_rotation(matrix, b)\n",
    "    print(\"    ||x - x_rot|| =\", np.linalg.norm(x - x_rot))\n",
    "    print()"
   ]
  },
  {
   "cell_type": "code",
   "execution_count": 174,
   "metadata": {},
   "outputs": [
    {
     "name": "stdout",
     "output_type": "stream",
     "text": [
      "Матрица Гильберта 5 порядка:\n",
      "    ||x - x_rot|| = 5.835418912192294e-11\n",
      "\n",
      "Матрица Гильберта 6 порядка:\n",
      "    ||x - x_rot|| = 2.1458688641944377e-08\n",
      "\n",
      "Матрица Гильберта 10 порядка:\n",
      "    ||x - x_rot|| = 0.008968815946376428\n",
      "\n"
     ]
    }
   ],
   "source": [
    "printAll(matrixHilbert5)\n",
    "printAll(matrixHilbert6)\n",
    "printAll(matrixHilbert10)"
   ]
  }
 ],
 "metadata": {
  "kernelspec": {
   "display_name": "Python 3",
   "language": "python",
   "name": "python3"
  },
  "language_info": {
   "codemirror_mode": {
    "name": "ipython",
    "version": 3
   },
   "file_extension": ".py",
   "mimetype": "text/x-python",
   "name": "python",
   "nbconvert_exporter": "python",
   "pygments_lexer": "ipython3",
   "version": "3.8.3"
  }
 },
 "nbformat": 4,
 "nbformat_minor": 4
}
