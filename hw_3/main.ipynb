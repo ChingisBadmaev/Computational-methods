{
 "cells": [
  {
   "cell_type": "markdown",
   "metadata": {},
   "source": [
    "#  Метод вращений"
   ]
  },
  {
   "cell_type": "code",
   "execution_count": 1,
   "metadata": {},
   "outputs": [],
   "source": [
    "import numpy as np\n",
    "import pandas as pd\n",
    "from math import sqrt\n",
    "import sys\n",
    "from scipy.linalg import hilbert\n",
    "from tabulate import tabulate"
   ]
  },
  {
   "cell_type": "markdown",
   "metadata": {},
   "source": [
    "# В качестве тестовых данных используются"
   ]
  },
  {
   "cell_type": "code",
   "execution_count": 2,
   "metadata": {
    "scrolled": false
   },
   "outputs": [
    {
     "name": "stdout",
     "output_type": "stream",
     "text": [
      "1.0 0.5 0.3333333333333333 0.25 0.2\n",
      "0.5 0.3333333333333333 0.25 0.2 0.16666666666666666\n",
      "0.3333333333333333 0.25 0.2 0.16666666666666666 0.14285714285714285\n",
      "0.25 0.2 0.16666666666666666 0.14285714285714285 0.125\n",
      "0.2 0.16666666666666666 0.14285714285714285 0.125 0.1111111111111111\n",
      "\n",
      "1.0 0.5 0.3333333333333333 0.25 0.2 0.16666666666666666\n",
      "0.5 0.3333333333333333 0.25 0.2 0.16666666666666666 0.14285714285714285\n",
      "0.3333333333333333 0.25 0.2 0.16666666666666666 0.14285714285714285 0.125\n",
      "0.25 0.2 0.16666666666666666 0.14285714285714285 0.125 0.1111111111111111\n",
      "0.2 0.16666666666666666 0.14285714285714285 0.125 0.1111111111111111 0.1\n",
      "0.16666666666666666 0.14285714285714285 0.125 0.1111111111111111 0.1 0.09090909090909091\n",
      "\n",
      "1.0 0.5 0.3333333333333333 0.25 0.2 0.16666666666666666 0.14285714285714285 0.125 0.1111111111111111 0.1\n",
      "0.5 0.3333333333333333 0.25 0.2 0.16666666666666666 0.14285714285714285 0.125 0.1111111111111111 0.1 0.09090909090909091\n",
      "0.3333333333333333 0.25 0.2 0.16666666666666666 0.14285714285714285 0.125 0.1111111111111111 0.1 0.09090909090909091 0.08333333333333333\n",
      "0.25 0.2 0.16666666666666666 0.14285714285714285 0.125 0.1111111111111111 0.1 0.09090909090909091 0.08333333333333333 0.07692307692307693\n",
      "0.2 0.16666666666666666 0.14285714285714285 0.125 0.1111111111111111 0.1 0.09090909090909091 0.08333333333333333 0.07692307692307693 0.07142857142857142\n",
      "0.16666666666666666 0.14285714285714285 0.125 0.1111111111111111 0.1 0.09090909090909091 0.08333333333333333 0.07692307692307693 0.07142857142857142 0.06666666666666667\n",
      "0.14285714285714285 0.125 0.1111111111111111 0.1 0.09090909090909091 0.08333333333333333 0.07692307692307693 0.07142857142857142 0.06666666666666667 0.0625\n",
      "0.125 0.1111111111111111 0.1 0.09090909090909091 0.08333333333333333 0.07692307692307693 0.07142857142857142 0.06666666666666667 0.0625 0.058823529411764705\n",
      "0.1111111111111111 0.1 0.09090909090909091 0.08333333333333333 0.07692307692307693 0.07142857142857142 0.06666666666666667 0.0625 0.058823529411764705 0.05555555555555555\n",
      "0.1 0.09090909090909091 0.08333333333333333 0.07692307692307693 0.07142857142857142 0.06666666666666667 0.0625 0.058823529411764705 0.05555555555555555 0.05263157894736842\n",
      "\n"
     ]
    }
   ],
   "source": [
    "# 1. Матрица Гильберта пятого порядка\n",
    "matrixHilbert5 = np.array(hilbert(5))\n",
    "print('\\n'.join(' '.join(str(cell) for cell in row) for row in matrixHilbert5))\n",
    "print()\n",
    "\n",
    "\n",
    "# 2. Матрица Гильберта шестого порядка\n",
    "matrixHilbert6 = np.array(hilbert(6))\n",
    "print('\\n'.join(' '.join(str(cell) for cell in row) for row in matrixHilbert6))\n",
    "print()\n",
    "\n",
    "\n",
    "# 2. Матрица Гильберта десятого порядка\n",
    "matrixHilbert10 = np.array(hilbert(10))\n",
    "print('\\n'.join(' '.join(str(cell) for cell in row) for row in matrixHilbert10))\n",
    "print()"
   ]
  },
  {
   "cell_type": "markdown",
   "metadata": {},
   "source": [
    "### Находение b"
   ]
  },
  {
   "cell_type": "code",
   "execution_count": 3,
   "metadata": {},
   "outputs": [],
   "source": [
    "def find_b(A, x):\n",
    "    b = np.dot(A, x)\n",
    "    return b"
   ]
  },
  {
   "cell_type": "markdown",
   "metadata": {},
   "source": [
    "### Метод вращений"
   ]
  },
  {
   "cell_type": "code",
   "execution_count": 4,
   "metadata": {},
   "outputs": [],
   "source": [
    "def solve_rotation(A, b):\n",
    "    q = np.column_stack([A, b])\n",
    "    for i in range(q.shape[0] - 1):\n",
    "        for j in range(i + 1, q.shape[0]):\n",
    "            c = q[i, i] / (q[i, i] ** 2 + q[j, i] ** 2) ** (1/2)\n",
    "            s = q[j, i] / (q[i, i] ** 2 + q[j, i] ** 2) ** (1/2)\n",
    "            tmp = q[i, :] * c + q[j, :] * s\n",
    "            q[j, :] = q[i, :] * -s + q[j, :] * c\n",
    "            q[i, :] = tmp\n",
    "    x = np.linalg.solve(q[:, :-1], q[:, -1])\n",
    "    return x"
   ]
  },
  {
   "cell_type": "markdown",
   "metadata": {},
   "source": [
    "### Вывод данных"
   ]
  },
  {
   "cell_type": "code",
   "execution_count": 5,
   "metadata": {},
   "outputs": [],
   "source": [
    "def print_all(matrix):\n",
    "    print(\"Матрица Гильберта\", matrix.shape[0], \"порядка:\")\n",
    "    x = np.random.uniform(0, 50, size=matrix.shape[0])\n",
    "    b = find_b(matrix, x)\n",
    "    x_rot = solve_rotation(matrix, b)\n",
    "    print(\"    ||x - x_rot|| =\", np.linalg.norm(x - x_rot))\n",
    "    print()"
   ]
  },
  {
   "cell_type": "code",
   "execution_count": 6,
   "metadata": {
    "scrolled": true
   },
   "outputs": [
    {
     "name": "stdout",
     "output_type": "stream",
     "text": [
      "Матрица Гильберта 5 порядка:\n",
      "    ||x - x_rot|| = 4.919443526204903e-10\n",
      "\n",
      "Матрица Гильберта 6 порядка:\n",
      "    ||x - x_rot|| = 2.2118503421988464e-08\n",
      "\n",
      "Матрица Гильберта 10 порядка:\n",
      "    ||x - x_rot|| = 0.017693405716529147\n",
      "\n"
     ]
    }
   ],
   "source": [
    "print_all(matrixHilbert5)\n",
    "print_all(matrixHilbert6)\n",
    "print_all(matrixHilbert10)"
   ]
  },
  {
   "cell_type": "markdown",
   "metadata": {},
   "source": [
    "# Задание до доп плюс"
   ]
  },
  {
   "cell_type": "markdown",
   "metadata": {},
   "source": [
    "### Спектральное число обусловленности"
   ]
  },
  {
   "cell_type": "code",
   "execution_count": 7,
   "metadata": {},
   "outputs": [],
   "source": [
    "def cond(A):\n",
    "    return np.linalg.cond(A, p=2)"
   ]
  },
  {
   "cell_type": "markdown",
   "metadata": {},
   "source": [
    "### Вычисление спектральных чисел обусловленности и нормы разности погрешности"
   ]
  },
  {
   "cell_type": "code",
   "execution_count": 8,
   "metadata": {},
   "outputs": [],
   "source": [
    "def comp_values(A, x, alpha):\n",
    "    b = A.dot(x)\n",
    "    A2 = A + alpha * np.eye(A.shape[0])\n",
    "    x_app = solve_rotation(A2, b)\n",
    "    A_cond = cond(A)\n",
    "    A2_cond = cond(A2)\n",
    "    error_norm = np.linalg.norm(x - x_app, ord=np.inf)\n",
    "    return A_cond, A2_cond, error_norm"
   ]
  },
  {
   "cell_type": "code",
   "execution_count": 9,
   "metadata": {},
   "outputs": [],
   "source": [
    "def print_all(table, columns, precision=3):\n",
    "    df = pd.DataFrame(table, columns=columns)\n",
    "    pd.set_option('precision', precision)\n",
    "    print(df)"
   ]
  },
  {
   "cell_type": "markdown",
   "metadata": {},
   "source": [
    "### Поиск наилучшего альфа"
   ]
  },
  {
   "cell_type": "code",
   "execution_count": 10,
   "metadata": {},
   "outputs": [],
   "source": [
    "def alpha_search(A, x):\n",
    "    table = list() # Таблица результатов для разных alpha\n",
    "    alphas = list(map(lambda i: 10**i, range(-12, 0)))\n",
    "    for alpha in alphas:\n",
    "        A_cond, A2_cond, error_norm = comp_values(A, x, alpha)\n",
    "        table.append((alpha, A_cond, A2_cond, error_norm))\n",
    "    print_all(table, ['alpha', 'A cond', '(A + alpha*E) cond', '||x-x0||'])\n",
    "    print()\n",
    "    return alphas[np.argmin([row[3] if row[2] < 1e+4 else np.inf\n",
    "                             for row in table])]"
   ]
  },
  {
   "cell_type": "markdown",
   "metadata": {},
   "source": [
    "### Вывод данных"
   ]
  },
  {
   "cell_type": "code",
   "execution_count": 11,
   "metadata": {},
   "outputs": [
    {
     "name": "stdout",
     "output_type": "stream",
     "text": [
      "        alpha     A cond  (A + alpha*E) cond   ||x-x0||\n",
      "0   1.000e-12  476607.25          476607.105  7.893e-08\n",
      "1   1.000e-11  476607.25          476605.801  7.886e-07\n",
      "2   1.000e-10  476607.25          476592.755  7.885e-06\n",
      "3   1.000e-09  476607.25          476462.338  7.883e-05\n",
      "4   1.000e-08  476607.25          475162.082  7.862e-04\n",
      "5   1.000e-07  476607.25          462539.474  7.653e-03\n",
      "6   1.000e-06  476607.25          365456.558  6.047e-02\n",
      "7   1.000e-05  476607.25          117931.148  1.950e-01\n",
      "8   1.000e-04  476607.25           15172.641  2.489e-01\n",
      "9   1.000e-03  476607.25            1562.912  2.648e-01\n",
      "10  1.000e-02  476607.25             157.653  8.071e-01\n",
      "11  1.000e-01  476607.25              16.670  1.775e+00\n",
      "\n"
     ]
    },
    {
     "data": {
      "text/plain": [
       "0.001"
      ]
     },
     "execution_count": 11,
     "metadata": {},
     "output_type": "execute_result"
    }
   ],
   "source": [
    "x = np.random.uniform(0, 5, size=matrixHilbert5.shape[0])\n",
    "A = matrixHilbert5\n",
    "\n",
    "alpha_search(matrixHilbert5, x)"
   ]
  }
 ],
 "metadata": {
  "kernelspec": {
   "display_name": "Python 3",
   "language": "python",
   "name": "python3"
  },
  "language_info": {
   "codemirror_mode": {
    "name": "ipython",
    "version": 3
   },
   "file_extension": ".py",
   "mimetype": "text/x-python",
   "name": "python",
   "nbconvert_exporter": "python",
   "pygments_lexer": "ipython3",
   "version": "3.8.3"
  }
 },
 "nbformat": 4,
 "nbformat_minor": 4
}
