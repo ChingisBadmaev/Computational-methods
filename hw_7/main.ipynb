{
 "cells": [
  {
   "cell_type": "markdown",
   "metadata": {},
   "source": [
    "# Решение ОДУ сеточным методом"
   ]
  },
  {
   "cell_type": "code",
   "execution_count": 22,
   "metadata": {},
   "outputs": [],
   "source": [
    "import numpy as np\n",
    "import math\n",
    "import matplotlib.pyplot as plt"
   ]
  },
  {
   "cell_type": "markdown",
   "metadata": {},
   "source": [
    "# Общий вид краевой задачи:\n",
    "# k * u_xx + p * u_x + q * u = f\n",
    "# Общий вид граничных условий:\n",
    "# alpha0 * y_0(a) + alpha1 * y'_0(a) = A_p\n",
    "# beta0 * y_n(b) + beta1 * y'_n(b) = B_p"
   ]
  },
  {
   "cell_type": "code",
   "execution_count": 23,
   "metadata": {},
   "outputs": [],
   "source": [
    "def k(x):\n",
    "    if n == 1:\n",
    "        return -1\n",
    "    if n == 2:\n",
    "        return -1 / (x + 3)\n",
    "    if n == 3:\n",
    "        return (x - 2) / (x + 2)\n",
    "\n",
    "\n",
    "def p(x):\n",
    "    if n == 1:\n",
    "        return 0\n",
    "    if n == 2:\n",
    "        return -x\n",
    "    if n == 3:\n",
    "        return x\n",
    "\n",
    "\n",
    "def q(x):\n",
    "    if n == 1:\n",
    "        return x ** 2\n",
    "    if n == 2:\n",
    "        return math.log(2 + x)\n",
    "    if n == 3:\n",
    "        return 1 - math.sin(x)\n",
    "\n",
    "\n",
    "def f(x):\n",
    "    if n == 1:\n",
    "        return (math.pi ** 2 / 4 + x ** 2) * math.cos(math.pi * x / 2)\n",
    "    if n == 2:\n",
    "        return 1 - x / 2\n",
    "    if n == 3:\n",
    "        return x * x\n",
    "\n",
    "\n",
    "def a():\n",
    "    if n == 1:\n",
    "        return 0\n",
    "    if n == 2:\n",
    "        return -1\n",
    "    if n == 3:\n",
    "        return -1\n",
    "\n",
    "\n",
    "def b():\n",
    "    if n == 1:\n",
    "        return 1\n",
    "    if n == 2:\n",
    "        return 1\n",
    "    if n == 3:\n",
    "        return 1\n",
    "\n",
    "\n",
    "def A_p():\n",
    "    if n == 1:\n",
    "        return 1\n",
    "    if n == 2:\n",
    "        return 0\n",
    "    if n == 3:\n",
    "        return 0\n",
    "\n",
    "\n",
    "def B_p():\n",
    "    if n == 1:\n",
    "        return 0\n",
    "    if n == 2:\n",
    "        return 0\n",
    "    if n == 3:\n",
    "        return 0\n",
    "\n",
    "\n",
    "def alpha0():\n",
    "    if n == 1:\n",
    "        return 1\n",
    "    if n == 2:\n",
    "        return 0\n",
    "    if n == 3:\n",
    "        return 1\n",
    "\n",
    "\n",
    "def alpha1():\n",
    "    if n == 1:\n",
    "        return 0\n",
    "    if n == 2:\n",
    "        return 1\n",
    "    if n == 3:\n",
    "        return 0\n",
    "\n",
    "\n",
    "def beta0():\n",
    "    if n == 1:\n",
    "        return 1\n",
    "    if n == 2:\n",
    "        return 1 / 2\n",
    "    if n == 3:\n",
    "        return 1\n",
    "\n",
    "\n",
    "def beta1():\n",
    "    if n == 1:\n",
    "        return 0\n",
    "    if n == 2:\n",
    "        return 1\n",
    "    if n == 3:\n",
    "        return 0"
   ]
  },
  {
   "cell_type": "markdown",
   "metadata": {},
   "source": [
    "### Нахождение коэффициентов"
   ]
  },
  {
   "cell_type": "code",
   "execution_count": 24,
   "metadata": {},
   "outputs": [],
   "source": [
    "def find_coef(a, b, alpha0, alpha1, beta0, beta1, A_c, B_c, h):\n",
    "    n = round((b - a) / h)\n",
    "    x = np.zeros(n + 1, dtype=float)\n",
    "    for i in range(n + 1):\n",
    "        x[i] = a + i * h\n",
    "    A = np.zeros(n + 1, dtype=float)\n",
    "    B = np.zeros(n + 1, dtype=float)\n",
    "    C = np.zeros(n + 1, dtype=float)\n",
    "    D = np.zeros(n + 1, dtype=float)\n",
    "    A[0] = 0\n",
    "    A[n] = -beta1\n",
    "    B[0] = h * alpha0 - alpha1\n",
    "    B[n] = h * beta0 + beta1\n",
    "    C[0] = alpha1\n",
    "    C[n] = 0\n",
    "    D[0] = h * A_c\n",
    "    D[n] = h * B_c\n",
    "    for i in range(1, n):\n",
    "        A[i] = 2 * k(x[i]) - h * p(x[i])\n",
    "        B[i] = -4 * k(x[i]) + 2 * h * h * q(x[i])\n",
    "        C[i] = 2 * k(x[i]) + h * p(x[i])\n",
    "        D[i] = 2 * h * h * f(x[i])\n",
    "    return A, B, C, D"
   ]
  },
  {
   "cell_type": "markdown",
   "metadata": {},
   "source": [
    "### Нахождение решения"
   ]
  },
  {
   "cell_type": "code",
   "execution_count": 25,
   "metadata": {},
   "outputs": [],
   "source": [
    "def find_solution(a, b, alpha0, alpha1, beta0, beta1, A_c, B_c, h):\n",
    "    n = round((b - a) / h)\n",
    "    A, B, C, D = find_coef(a, b, alpha0, alpha1, beta0, beta1, A_c, B_c, h)\n",
    "    s = np.zeros(n + 1, dtype=float)\n",
    "    t = np.zeros(n + 1, dtype=float)\n",
    "    y = np.zeros(n + 1, dtype=float)\n",
    "    s[0] = - C[0] / B[0]\n",
    "    t[0] = D[0] / B[0]\n",
    "    for i in range(1, n + 1):\n",
    "        s[i] = -C[i] / (A[i] * s[i - 1] + B[i])\n",
    "        t[i] = (D[i] - A[i] * t[i - 1]) / (A[i] * s[i - 1] + B[i])\n",
    "    y[n] = t[n]\n",
    "    for i in range(n - 1, -1, -1):\n",
    "        y[i] = s[i] * y[i + 1] + t[i]\n",
    "    return y"
   ]
  },
  {
   "cell_type": "code",
   "execution_count": 26,
   "metadata": {},
   "outputs": [],
   "source": [
    "def grid(a, b, alpha0, alpha1, beta0, beta1, A_c, B_c, h, eps):\n",
    "    coef = 2\n",
    "    k = 0\n",
    "    v2 = find_solution(a, b, alpha0, alpha1, beta0, beta1, A_c, B_c, h)\n",
    "    while True:\n",
    "        k += 1\n",
    "        v1 = v2\n",
    "        v2 = find_solution(a, b, alpha0, alpha1, beta0, beta1, A_c, B_c, h / (coef ** k))\n",
    "        err = np.zeros(v1.shape[0], dtype=float)\n",
    "        for i in range(v1.shape[0]):\n",
    "            err[i] = (v2[i * 2] - v1[i]) / (coef ** 1 - 1)\n",
    "        if np.linalg.norm(err) < eps:\n",
    "            for i in range(n + 1):\n",
    "                if i % 2 == 0:\n",
    "                    v2[i * 2] += err[i]\n",
    "                else:\n",
    "                    v2[i] += (err[i - 1] + err[i + 1]) / 2\n",
    "            x = np.zeros(v2.shape[0], dtype=float)\n",
    "            for i in range(v2.shape[0]):\n",
    "                x[i] = a + i * h / (coef ** k)\n",
    "            return x, v2, h / (coef ** k), k"
   ]
  },
  {
   "cell_type": "markdown",
   "metadata": {},
   "source": [
    "# Вывод данных"
   ]
  },
  {
   "cell_type": "code",
   "execution_count": 27,
   "metadata": {},
   "outputs": [
    {
     "name": "stdout",
     "output_type": "stream",
     "text": [
      "Погрешность 1e-05\n",
      "Шаг конечной сетки = 0.0009765625\n",
      "Количество шагов сгущения сетки: 7\n"
     ]
    },
    {
     "data": {
      "image/png": "[encoded data removed]",
      "text/plain": [
       "<Figure size 432x288 with 1 Axes>"
      ]
     },
     "metadata": {
      "needs_background": "light"
     },
     "output_type": "display_data"
    }
   ],
   "source": [
    "n = 3\n",
    "h = 1 / 8\n",
    "eps = 1e-5\n",
    "x, y, h_new, k = grid(a(), b(), alpha0(), alpha1(), beta0(), beta1(), A_p(), B_p(), h, eps)\n",
    "print(\"Погрешность\", eps)\n",
    "print(\"Шаг конечной сетки =\", h_new)\n",
    "print(\"Количество шагов сгущения сетки:\", k)\n",
    "plt.plot(x, y, marker='.', color='red', mec='black', ms=10)\n",
    "plt.xlabel('x')\n",
    "plt.ylabel('y')\n",
    "plt.grid(True)\n",
    "plt.show()"
   ]
  }
 ],
 "metadata": {
  "kernelspec": {
   "display_name": "Python 3",
   "language": "python",
   "name": "python3"
  },
  "language_info": {
   "codemirror_mode": {
    "name": "ipython",
    "version": 3
   },
   "file_extension": ".py",
   "mimetype": "text/x-python",
   "name": "python",
   "nbconvert_exporter": "python",
   "pygments_lexer": "ipython3",
   "version": "3.8.3"
  }
 },
 "nbformat": 4,
 "nbformat_minor": 4
}
